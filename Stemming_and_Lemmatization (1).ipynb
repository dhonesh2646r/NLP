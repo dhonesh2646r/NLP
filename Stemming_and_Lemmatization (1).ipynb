{
  "nbformat": 4,
  "nbformat_minor": 0,
  "metadata": {
    "colab": {
      "provenance": []
    },
    "kernelspec": {
      "name": "python3",
      "display_name": "Python 3"
    },
    "language_info": {
      "name": "python"
    }
  },
  "cells": [
    {
      "cell_type": "code",
      "execution_count": null,
      "metadata": {
        "colab": {
          "base_uri": "https://localhost:8080/"
        },
        "id": "gXeQw1-cDal-",
        "outputId": "cf7238c2-0aba-4238-f37e-66a455f080bf"
      },
      "outputs": [
        {
          "output_type": "stream",
          "name": "stdout",
          "text": [
            "['hi', 'my', 'name', 'is', 'dhonesh,i', 'am', 'now', 'sleep', 'and', 'danc']\n"
          ]
        }
      ],
      "source": [
        "#porter stemmer\n",
        "from nltk.stem import PorterStemmer\n",
        "porter_stemmer=PorterStemmer()\n",
        "words=\"HI my name is Dhonesh,I am now sleeping and dancing\".split()\n",
        "stemmed_words=[ porter_stemmer.stem(word) for word in words ]\n",
        "print(stemmed_words)\n",
        "# stemmed_words=[ porter_stemmer.stem(word) for word in words ]\n",
        "# print(stemmed_words)\n",
        "# # st=[Where did he learn to dance]"
      ]
    },
    {
      "cell_type": "code",
      "source": [
        "#snowBall stemmer\n",
        "from nltk.stem import SnowballStemmer\n",
        "snowball_stemmer=SnowballStemmer(language='english')\n",
        "words=['Hello','running','sleeping','dancing','falling','beautiful']\n",
        "stemmed_words=[ snowball_stemmer.stem(word) for word in words ]\n",
        "print(stemmed_words)"
      ],
      "metadata": {
        "colab": {
          "base_uri": "https://localhost:8080/"
        },
        "id": "AWOmi173GmLi",
        "outputId": "fdce0cd9-3533-42c9-fa7d-93b6a581f3fb"
      },
      "execution_count": null,
      "outputs": [
        {
          "output_type": "stream",
          "name": "stdout",
          "text": [
            "['hello', 'run', 'sleep', 'danc', 'fall', 'beauti']\n"
          ]
        }
      ]
    },
    {
      "cell_type": "code",
      "source": [
        "# Lancaster Stemmer\n",
        "from nltk.stem import LancasterStemmer\n",
        "lancaster_stemmer=LancasterStemmer()\n",
        "words=['Hello','running','sleeping','dancing','falling','beautiful']\n",
        "stemmed_words=[ lancaster_stemmer.stem(word) for word in words ]\n",
        "print(stemmed_words)"
      ],
      "metadata": {
        "colab": {
          "base_uri": "https://localhost:8080/"
        },
        "id": "9quag_7wHn2p",
        "outputId": "bcb2e364-1170-4bce-8b97-cd733dec5cb1"
      },
      "execution_count": null,
      "outputs": [
        {
          "output_type": "stream",
          "name": "stdout",
          "text": [
            "['hello', 'run', 'sleep', 'dant', 'fal', 'beauty']\n"
          ]
        }
      ]
    },
    {
      "cell_type": "code",
      "source": [
        "# Lemmatization\n",
        "#   Rule Based Lemmatization\n",
        "#   Dictionary-Based Lemmatization\n",
        "#   Machine Learning-Based Lemmatization\n",
        "\n",
        "from nltk.stem import WordNetLemmatizer\n",
        "lemmatizer = WordNetLemmatizer()\n",
        "print(\"rocks :\", lemmatizer.lemmatize(\"rocks\"))\n",
        "print(\"corpora :\", lemmatizer.lemmatize(\"corpora\"))\n",
        "print(\"better :\", lemmatizer.lemmatize(\"better\", pos=\"a\")) #here 'pos=\"a\"' implies as the part of speech as adjective"
      ],
      "metadata": {
        "colab": {
          "base_uri": "https://localhost:8080/"
        },
        "id": "9vkEjM3VITqB",
        "outputId": "1d1d88bb-d40e-4edf-aba7-83251d04edf6"
      },
      "execution_count": null,
      "outputs": [
        {
          "output_type": "stream",
          "name": "stdout",
          "text": [
            "rocks : rock\n",
            "corpora : corpus\n",
            "better : better\n"
          ]
        }
      ]
    },
    {
      "cell_type": "code",
      "source": [],
      "metadata": {
        "id": "O964fOycL3iZ"
      },
      "execution_count": null,
      "outputs": []
    }
  ]
}
{
  "nbformat": 4,
  "nbformat_minor": 0,
  "metadata": {
    "colab": {
      "provenance": []
    },
    "kernelspec": {
      "name": "python3",
      "display_name": "Python 3"
    },
    "language_info": {
      "name": "python"
    }
  },
  "cells": [
    {
      "cell_type": "code",
      "source": [
        "# Morphological Analysis and Generation\n",
        "\n",
        "    # Morphological analysis, in the context of language, is the study of word structure and how words are formed using morphemes, the smallest units of meaning.\n",
        "    # It involves breaking down words into their constituent parts and analyzing their relationships.\n",
        "    # This process is crucial for understanding how words are constructed and how their meanings are derived."
      ],
      "metadata": {
        "id": "vc9lCSLVLQxD"
      },
      "execution_count": 1,
      "outputs": []
    },
    {
      "cell_type": "code",
      "source": [
        "def morphological_analysis(word):\n",
        "    suffixes = [\"ing\", \"ed\", \"s\", \"er\", \"ly\"]  #defining suffixes\n",
        "\n",
        "    root = word\n",
        "    found_affixes = []\n",
        "\n",
        "    for suffix in suffixes:\n",
        "        if root.endswith(suffix):\n",
        "            root = root[:-len(suffix)]\n",
        "            found_affixes.append(suffix)\n",
        "    return (root)\n",
        "\n",
        "word_to_analyze = \"walking\"\n",
        "root = morphological_analysis(word_to_analyze)\n",
        "print(f\"Analysis of '{word_to_analyze}': Root='{root}'\")"
      ],
      "metadata": {
        "colab": {
          "base_uri": "https://localhost:8080/"
        },
        "id": "n4xGbOVtPK-p",
        "outputId": "d9e8c125-f156-48c2-e89d-56301762bcb7"
      },
      "execution_count": 12,
      "outputs": [
        {
          "output_type": "stream",
          "name": "stdout",
          "text": [
            "Analysis of 'walking': Root='walk'\n"
          ]
        }
      ]
    },
    {
      "cell_type": "code",
      "metadata": {
        "colab": {
          "base_uri": "https://localhost:8080/"
        },
        "id": "59942f25",
        "outputId": "8ffaff3a-6df9-44f4-b4d4-4b30c67678f3"
      },
      "source": [
        "def morphological_analysis(word):\n",
        "\n",
        "    suffixes = [\"ing\", \"ed\", \"s\", \"er\", \"ly\"]   #defining suffixes\n",
        "    prefixes = [\"un\", \"re\", \"pre\"] #defining prefixes\n",
        "\n",
        "    root = word\n",
        "    found_affixes = []\n",
        "\n",
        "    for suffix in suffixes:\n",
        "        if root.endswith(suffix):\n",
        "            root = root[:-len(suffix)]\n",
        "            found_affixes.append(suffix)\n",
        "\n",
        "    for prefix in prefixes:\n",
        "        if root.startswith(prefix):\n",
        "            root = root[len(prefix):]\n",
        "            found_affixes.append(prefix)\n",
        "\n",
        "    return (root, found_affixes)\n",
        "\n",
        "word_to_analyze = \"unbreakable\"\n",
        "root, affixes = morphological_analysis(word_to_analyze)\n",
        "print(f\"Analysis of '{word_to_analyze}': Root='{root}', Affixes={affixes}\")\n",
        "\n",
        "word_to_analyze = \"walking\"\n",
        "root, affixes = morphological_analysis(word_to_analyze)\n",
        "print(f\"Analysis of '{word_to_analyze}': Root='{root}', Affixes={affixes}\")\n",
        "\n",
        "word_to_analyze = \"happily\"\n",
        "root, affixes = morphological_analysis(word_to_analyze)\n",
        "print(f\"Analysis of '{word_to_analyze}': Root='{root}', Affixes={affixes}\")\n",
        "\n",
        "word_to_analyze = \"jumped\"\n",
        "root, affixes = morphological_analysis(word_to_analyze)\n",
        "print(f\"Analysis of '{word_to_analyze}': Root='{root}', Affixes={affixes}\")\n",
        "\n",
        "word_to_analyze = \"cats\"\n",
        "root, affixes = morphological_analysis(word_to_analyze)\n",
        "print(f\"Analysis of '{word_to_analyze}': Root='{root}', Affixes={affixes}\")\n",
        "\n",
        "word_to_analyze = \"replay\"\n",
        "root, affixes = morphological_analysis(word_to_analyze)\n",
        "print(f\"Analysis of '{word_to_analyze}': Root='{root}', Affixes={affixes}\")\n",
        "\n",
        "word_to_analyze = \"jump\"\n",
        "root, affixes = morphological_analysis(word_to_analyze)\n",
        "print(f\"Analysis of '{word_to_analyze}': Root='{root}', Affixes={affixes}\")"
      ],
      "execution_count": 14,
      "outputs": [
        {
          "output_type": "stream",
          "name": "stdout",
          "text": [
            "Analysis of 'unbreakable': Root='breakable', Affixes=['un']\n",
            "Analysis of 'walking': Root='walk', Affixes=['ing']\n",
            "Analysis of 'happily': Root='happi', Affixes=['ly']\n",
            "Analysis of 'jumped': Root='jump', Affixes=['ed']\n",
            "Analysis of 'cats': Root='cat', Affixes=['s']\n",
            "Analysis of 'replay': Root='play', Affixes=['re']\n",
            "Analysis of 'jump': Root='jump', Affixes=[]\n"
          ]
        }
      ]
    },
    {
      "cell_type": "code",
      "source": [],
      "metadata": {
        "id": "QpFKVDI3M7zD"
      },
      "execution_count": null,
      "outputs": []
    }
  ]
}
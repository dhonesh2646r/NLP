{
  "nbformat": 4,
  "nbformat_minor": 0,
  "metadata": {
    "colab": {
      "provenance": []
    },
    "kernelspec": {
      "name": "python3",
      "display_name": "Python 3"
    },
    "language_info": {
      "name": "python"
    }
  },
  "cells": [
    {
      "cell_type": "code",
      "execution_count": null,
      "metadata": {
        "colab": {
          "base_uri": "https://localhost:8080/"
        },
        "id": "rLg_U645Ly-f",
        "outputId": "db428e0d-f558-4014-819b-9b8ef7eda73a"
      },
      "outputs": [
        {
          "output_type": "stream",
          "name": "stderr",
          "text": [
            "[nltk_data] Downloading package punkt to /root/nltk_data...\n",
            "[nltk_data]   Package punkt is already up-to-date!\n",
            "[nltk_data] Downloading package punkt_tab to /root/nltk_data...\n",
            "[nltk_data]   Unzipping tokenizers/punkt_tab.zip.\n"
          ]
        },
        {
          "output_type": "execute_result",
          "data": {
            "text/plain": [
              "True"
            ]
          },
          "metadata": {},
          "execution_count": 17
        }
      ],
      "source": [
        "# Tokenization and Segmentation\n",
        "import nltk\n",
        "import re\n",
        "from nltk.tokenize import regexp_tokenize, RegexpTokenizer,sent_tokenize,word_tokenize\n",
        "\n",
        "nltk.download('punkt')\n",
        "nltk.download('punkt_tab')"
      ]
    },
    {
      "cell_type": "code",
      "source": [
        "text=\"Hi my name is Dhonesh ,,,and I am currently pursing BTech in Computer Science and Engineering\" #tokenization\n",
        "reg=r'\\W+'\n",
        "result = re.sub(reg, ' ', text) #removing the non-alphanumeric characters\n",
        "tokens = re.findall(r'\\b\\w+\\b|[^\\w\\s]', result)\n",
        "print(tokens)"
      ],
      "metadata": {
        "colab": {
          "base_uri": "https://localhost:8080/"
        },
        "id": "MC_4EwGnMw9h",
        "outputId": "79cb9e1e-c045-42a2-f450-a8767bf5c8ed"
      },
      "execution_count": null,
      "outputs": [
        {
          "output_type": "stream",
          "name": "stdout",
          "text": [
            "['Hi', 'my', 'name', 'is', 'Dhonesh', 'and', 'I', 'am', 'currently', 'pursing', 'BTech', 'in', 'Computer', 'Science', 'and', 'Engineering']\n"
          ]
        }
      ]
    },
    {
      "cell_type": "code",
      "source": [
        "sentences = word_tokenize(text) #segmentation\n",
        "print(sentences)"
      ],
      "metadata": {
        "colab": {
          "base_uri": "https://localhost:8080/"
        },
        "id": "vZdonFgnPoGB",
        "outputId": "f6fa8363-bca5-4c46-f064-bb0c5a27d1f3"
      },
      "execution_count": null,
      "outputs": [
        {
          "output_type": "stream",
          "name": "stdout",
          "text": [
            "['Hi', 'my', 'name', 'is', 'Dhonesh', ',', ',', ',', 'and', 'I', 'am', 'currently', 'pursing', 'BTech', 'in', 'Computer', 'Science', 'and', 'Engineering']\n"
          ]
        }
      ]
    },
    {
      "cell_type": "code",
      "source": [],
      "metadata": {
        "id": "-BSiNpSRQvYm"
      },
      "execution_count": null,
      "outputs": []
    }
  ]
}
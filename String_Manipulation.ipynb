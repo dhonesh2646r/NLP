{
  "nbformat": 4,
  "nbformat_minor": 0,
  "metadata": {
    "colab": {
      "provenance": []
    },
    "kernelspec": {
      "name": "python3",
      "display_name": "Python 3"
    },
    "language_info": {
      "name": "python"
    }
  },
  "cells": [
    {
      "cell_type": "code",
      "execution_count": null,
      "metadata": {
        "id": "L9ueSZFZCW9Z"
      },
      "outputs": [],
      "source": [
        "# solve the following task\n",
        "# 1.count the number of words and the distinct words\n",
        "# 2.using list addition and the set and sorted opereations compute the vocabulary of the sentences sent1.....sent8\n",
        "# 3.define sent to be the list of words ['she','sells','sea','shells','by','the','sea','shore'] now write the code to perform the following tasks\n",
        "# 4.print all the words beggining with sh\n",
        "# 5.print all the words longer than four characters"
      ]
    },
    {
      "cell_type": "code",
      "source": [
        "import numpy as np\n",
        "import pandas as pd\n",
        "text=\"She sells sea shells by the sea shore, the shells she sells are surely seashells, so if she sells sea shells into the sea shore, I am sure that the shells are sea shore shells.\"\n",
        "words=text.split()\n",
        "print(f'the number of words in the dataset is {len(words)}')"
      ],
      "metadata": {
        "colab": {
          "base_uri": "https://localhost:8080/"
        },
        "id": "t1FY6Q8hCx4D",
        "outputId": "4b230e40-e921-4e3e-9e7d-10eefc4c899b"
      },
      "execution_count": null,
      "outputs": [
        {
          "output_type": "stream",
          "name": "stdout",
          "text": [
            "the number of words in the dataset is 35\n"
          ]
        }
      ]
    },
    {
      "cell_type": "code",
      "source": [
        "voc=set(words)\n",
        "print(f'the number of words in the dataset is {len(voc)}')"
      ],
      "metadata": {
        "colab": {
          "base_uri": "https://localhost:8080/"
        },
        "id": "6TmPH-YmDIJD",
        "outputId": "a31bcd96-546d-4775-f9aa-b1abf554f5e8"
      },
      "execution_count": null,
      "outputs": [
        {
          "output_type": "stream",
          "name": "stdout",
          "text": [
            "the number of words in the dataset is 20\n"
          ]
        }
      ]
    },
    {
      "cell_type": "code",
      "source": [
        "sorted(voc)\n",
        "# print(words)\n",
        "vocab=\" \".join(voc)\n",
        "print(vocab)"
      ],
      "metadata": {
        "colab": {
          "base_uri": "https://localhost:8080/"
        },
        "id": "cgadYOv-DdkS",
        "outputId": "80e80a43-ea5e-4670-8e1a-489f3842a439"
      },
      "execution_count": null,
      "outputs": [
        {
          "output_type": "stream",
          "name": "stdout",
          "text": [
            "that shore sells by am seashells, so shells. into She sure shore, she shells sea are surely I the if\n"
          ]
        }
      ]
    },
    {
      "cell_type": "code",
      "source": [
        "sent=['she','sells','sea','shells','by','the','sea','shore']"
      ],
      "metadata": {
        "id": "MkJFG4bvD3pC"
      },
      "execution_count": null,
      "outputs": []
    },
    {
      "cell_type": "code",
      "source": [
        "print(list(filter(lambda x:x.startswith('sh'),sent)))"
      ],
      "metadata": {
        "colab": {
          "base_uri": "https://localhost:8080/"
        },
        "id": "mchifwkPEipi",
        "outputId": "fb9db44a-e5de-4abd-8586-01c98b1ff2ed"
      },
      "execution_count": null,
      "outputs": [
        {
          "output_type": "stream",
          "name": "stdout",
          "text": [
            "['she', 'shells', 'shore']\n"
          ]
        }
      ]
    },
    {
      "cell_type": "code",
      "source": [
        "print(list(filter(lambda x:len(x)>4,sent)))"
      ],
      "metadata": {
        "colab": {
          "base_uri": "https://localhost:8080/"
        },
        "id": "bHZjirxWFe3D",
        "outputId": "d46b2dbe-488d-44c8-e354-793bd8aee9c3"
      },
      "execution_count": null,
      "outputs": [
        {
          "output_type": "stream",
          "name": "stdout",
          "text": [
            "['sells', 'shells', 'shore']\n"
          ]
        }
      ]
    },
    {
      "cell_type": "code",
      "source": [],
      "metadata": {
        "id": "jw79_SHuGUEi"
      },
      "execution_count": null,
      "outputs": []
    }
  ]
}
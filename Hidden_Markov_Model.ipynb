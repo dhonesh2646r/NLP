{
  "nbformat": 4,
  "nbformat_minor": 0,
  "metadata": {
    "colab": {
      "provenance": []
    },
    "kernelspec": {
      "name": "python3",
      "display_name": "Python 3"
    },
    "language_info": {
      "name": "python"
    }
  },
  "cells": [
    {
      "cell_type": "code",
      "execution_count": 17,
      "metadata": {
        "colab": {
          "base_uri": "https://localhost:8080/"
        },
        "id": "C4vg5BCwMbMg",
        "outputId": "e63f0b28-a2b3-402c-8b44-efdb8cde2073"
      },
      "outputs": [
        {
          "output_type": "stream",
          "name": "stdout",
          "text": [
            "Loaded 2 tagged sentences.\n",
            "First sentence example: [('This', 'DT'), ('is', 'VBZ'), ('a', 'DT'), ('dummy', 'JJ'), ('sentence', 'NN'), ('.', '.')]\n"
          ]
        }
      ],
      "source": [
        "# Calculate the emission and transition matrix which will be helpful for tagging parts of Speech using Hidden Markov Model\n",
        "\n",
        "\n",
        "# Hidden Markov Model (HMM) is a statistical model used to analyze sequential data like text or speech.\n",
        "# It represents a system with hidden states that evolve over time, and the observer can only see outputs that depend on these hidden states.\n",
        "# HMMs are particularly useful for tasks like part-of-speech tagging, speech recognition, and machine translation.\n",
        "\n",
        "with open('tagged_sentences.txt', 'r') as f:\n",
        "    content = f.read()\n",
        "\n",
        "sentences = content.strip().split('\\n')\n",
        "\n",
        "tagged_sentences = []\n",
        "for sentence in sentences:\n",
        "    tagged_sentence = []\n",
        "    word_pos_pairs = sentence.split()\n",
        "    for pair in word_pos_pairs:\n",
        "        word, pos = pair.rsplit('/', 1)\n",
        "        tagged_sentence.append((word, pos))\n",
        "    tagged_sentences.append(tagged_sentence)\n",
        "\n",
        "print(f\"Loaded {len(tagged_sentences)} tagged sentences.\")\n",
        "if tagged_sentences:\n",
        "    print(\"First sentence example:\", tagged_sentences[0])"
      ]
    },
    {
      "cell_type": "code",
      "metadata": {
        "colab": {
          "base_uri": "https://localhost:8080/"
        },
        "id": "4446936a",
        "outputId": "0cfb0609-70d9-486a-be14-a62202b3ff0c"
      },
      "source": [
        "transition_counts = {}\n",
        "\n",
        "for sentence in tagged_sentences:\n",
        "    for i in range(len(sentence) - 1):\n",
        "        current_tag = sentence[i][1]\n",
        "        next_tag = sentence[i+1][1]\n",
        "        if current_tag not in transition_counts:\n",
        "            transition_counts[current_tag] = {}\n",
        "        if next_tag not in transition_counts[current_tag]:\n",
        "            transition_counts[current_tag][next_tag] = 0\n",
        "        transition_counts[current_tag][next_tag] += 1\n",
        "\n",
        "print(\"Tag transition counts:\")\n",
        "print(transition_counts)"
      ],
      "execution_count": 18,
      "outputs": [
        {
          "output_type": "stream",
          "name": "stdout",
          "text": [
            "Tag transition counts:\n",
            "{'DT': {'VBZ': 1, 'JJ': 1, 'NN': 1}, 'VBZ': {'DT': 1}, 'JJ': {'NN': 1}, 'NN': {'.': 1, 'RB': 1}, 'RB': {'.': 1}}\n"
          ]
        }
      ]
    },
    {
      "cell_type": "code",
      "metadata": {
        "colab": {
          "base_uri": "https://localhost:8080/"
        },
        "id": "ea8d307d",
        "outputId": "fe699c55-b70d-4a16-dc08-f4d64b8208dd"
      },
      "source": [
        "transition_probabilities = {}\n",
        "\n",
        "for current_tag, next_tags in transition_counts.items():\n",
        "    total_transitions_from_current_tag = sum(next_tags.values())\n",
        "    transition_probabilities[current_tag] = {}\n",
        "    for next_tag, count in next_tags.items():\n",
        "        transition_probabilities[current_tag][next_tag] = count / total_transitions_from_current_tag\n",
        "\n",
        "print(\"\\nTag transition probabilities:\")\n",
        "print(transition_probabilities)"
      ],
      "execution_count": 19,
      "outputs": [
        {
          "output_type": "stream",
          "name": "stdout",
          "text": [
            "\n",
            "Tag transition probabilities:\n",
            "{'DT': {'VBZ': 0.3333333333333333, 'JJ': 0.3333333333333333, 'NN': 0.3333333333333333}, 'VBZ': {'DT': 1.0}, 'JJ': {'NN': 1.0}, 'NN': {'.': 0.5, 'RB': 0.5}, 'RB': {'.': 1.0}}\n"
          ]
        }
      ]
    },
    {
      "cell_type": "code",
      "metadata": {
        "colab": {
          "base_uri": "https://localhost:8080/"
        },
        "id": "eadcffe6",
        "outputId": "ede07bfb-cecd-4ee4-e992-2fdccbc443f1"
      },
      "source": [
        "emission_counts = {}\n",
        "\n",
        "for sentence in tagged_sentences:\n",
        "    for word, tag in sentence:\n",
        "        if tag not in emission_counts:\n",
        "            emission_counts[tag] = {}\n",
        "        if word not in emission_counts[tag]:\n",
        "            emission_counts[tag][word] = 0\n",
        "        emission_counts[tag][word] += 1\n",
        "\n",
        "print(\"Word-tag emission counts:\")\n",
        "print(emission_counts)"
      ],
      "execution_count": 20,
      "outputs": [
        {
          "output_type": "stream",
          "name": "stdout",
          "text": [
            "Word-tag emission counts:\n",
            "{'DT': {'This': 1, 'a': 1, 'Another': 1}, 'VBZ': {'is': 1}, 'JJ': {'dummy': 1}, 'NN': {'sentence': 1, 'example': 1}, '.': {'.': 2}, 'RB': {'here': 1}}\n"
          ]
        }
      ]
    },
    {
      "cell_type": "code",
      "metadata": {
        "colab": {
          "base_uri": "https://localhost:8080/"
        },
        "id": "454836c1",
        "outputId": "449609d0-db5c-4358-a23a-664c81b22ba1"
      },
      "source": [
        "emission_probabilities = {}\n",
        "\n",
        "for tag, word_counts in emission_counts.items():\n",
        "    total_tag_count = sum(word_counts.values())\n",
        "    emission_probabilities[tag] = {}\n",
        "    for word, count in word_counts.items():\n",
        "        emission_probabilities[tag][word] = count / total_tag_count\n",
        "\n",
        "print(\"\\nWord-tag emission probabilities:\")\n",
        "print(emission_probabilities)"
      ],
      "execution_count": 21,
      "outputs": [
        {
          "output_type": "stream",
          "name": "stdout",
          "text": [
            "\n",
            "Word-tag emission probabilities:\n",
            "{'DT': {'This': 0.3333333333333333, 'a': 0.3333333333333333, 'Another': 0.3333333333333333}, 'VBZ': {'is': 1.0}, 'JJ': {'dummy': 1.0}, 'NN': {'sentence': 0.5, 'example': 0.5}, '.': {'.': 1.0}, 'RB': {'here': 1.0}}\n"
          ]
        }
      ]
    },
    {
      "cell_type": "code",
      "source": [],
      "metadata": {
        "id": "-JGgzHYtWEPY"
      },
      "execution_count": 16,
      "outputs": []
    }
  ]
}
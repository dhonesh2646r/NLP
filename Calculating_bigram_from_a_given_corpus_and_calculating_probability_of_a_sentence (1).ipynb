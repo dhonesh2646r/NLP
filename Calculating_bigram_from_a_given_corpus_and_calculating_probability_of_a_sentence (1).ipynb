{
  "nbformat": 4,
  "nbformat_minor": 0,
  "metadata": {
    "colab": {
      "provenance": []
    },
    "kernelspec": {
      "name": "python3",
      "display_name": "Python 3"
    },
    "language_info": {
      "name": "python"
    }
  },
  "cells": [
    {
      "cell_type": "code",
      "execution_count": 22,
      "metadata": {
        "colab": {
          "base_uri": "https://localhost:8080/"
        },
        "id": "sU9y2LAXFTVr",
        "outputId": "b2df4fb7-b547-4321-ce2d-59d701a3adce"
      },
      "outputs": [
        {
          "output_type": "stream",
          "name": "stdout",
          "text": [
            "the sky is blue. \n",
            "['the', 'sky', 'is', 'blue']\n"
          ]
        }
      ],
      "source": [
        "import string\n",
        "sentence=input()\n",
        "sentence=sentence.lower()\n",
        "x=[char.strip(string.punctuation) for char in sentence.split(\" \") if char not in string.punctuation]\n",
        "# list=x.split(\" \")\n",
        "# x.join(\" \")\n",
        "print(x)\n",
        "# x"
      ]
    },
    {
      "cell_type": "code",
      "source": [
        "bi={}\n",
        "for i in range(len(x)-1):\n",
        "  cnt=0\n",
        "  if (x[i],x[i+1]) not in bi:\n",
        "    bi[(x[i],x[i+1])]=1\n",
        "  else:\n",
        "    bi[(x[i],x[i+1])]+=1\n",
        "print(bi)"
      ],
      "metadata": {
        "colab": {
          "base_uri": "https://localhost:8080/"
        },
        "id": "JvfgyYFUIRoT",
        "outputId": "f568d580-e957-4232-c38e-e8850e61f9c3"
      },
      "execution_count": 23,
      "outputs": [
        {
          "output_type": "stream",
          "name": "stdout",
          "text": [
            "{('the', 'sky'): 1, ('sky', 'is'): 1, ('is', 'blue'): 1}\n"
          ]
        }
      ]
    },
    {
      "cell_type": "code",
      "source": [
        "uni={}\n",
        "for i in range(len(x)-1):\n",
        "  cnt=0\n",
        "  if x[i] not in uni:\n",
        "    uni[x[i]]=1\n",
        "  else:\n",
        "    uni[x[i]]+=1\n",
        "print(uni)"
      ],
      "metadata": {
        "colab": {
          "base_uri": "https://localhost:8080/"
        },
        "id": "B_xEbR-fKEaE",
        "outputId": "2251394b-0562-4a5c-c5ca-24261f2dacc7"
      },
      "execution_count": 24,
      "outputs": [
        {
          "output_type": "stream",
          "name": "stdout",
          "text": [
            "{'the': 1, 'sky': 1, 'is': 1}\n"
          ]
        }
      ]
    },
    {
      "cell_type": "code",
      "source": [
        "proab={}\n",
        "for i in bi:\n",
        "  proab[i]=round(bi[i]/uni[i[0]],3)\n",
        "print(proab)"
      ],
      "metadata": {
        "colab": {
          "base_uri": "https://localhost:8080/"
        },
        "id": "W-XECcDmMJrr",
        "outputId": "00b05f8d-b07b-4ddf-ed9b-18101eda38a8"
      },
      "execution_count": 25,
      "outputs": [
        {
          "output_type": "stream",
          "name": "stdout",
          "text": [
            "{('the', 'sky'): 1.0, ('sky', 'is'): 1.0, ('is', 'blue'): 1.0}\n"
          ]
        }
      ]
    },
    {
      "cell_type": "code",
      "source": [],
      "metadata": {
        "id": "-WHIip6uMU3r"
      },
      "execution_count": null,
      "outputs": []
    }
  ]
}